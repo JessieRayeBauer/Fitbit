{
 "cells": [
  {
   "cell_type": "markdown",
   "metadata": {},
   "source": [
    "## Tutorial: Explore your own Fitbit data!\n",
    "\n",
    "January 21, 2018"
   ]
  },
  {
   "cell_type": "markdown",
   "metadata": {},
   "source": [
    "### The goal of this project was for me to practice:\n",
    "1. downloading data from an API \n",
    "2. working with new types of data formats (e.g., json)\n",
    "3. visualizations\n",
    "4. basic statistics in Python.\n",
    "\n",
    "#### Also, as a new Fitbit owner (Dec. 2017), previous collegiate athlete, and fitness lover, I was incredibly curious about my own data!\n",
    "\n",
    "### The general outline of this notebook is as follows:\n",
    " 1. Import or install necessary libraries\n",
    " 2. Read in and visualize data sets (heart rate, sleep, steps)\n",
    " 3. Analyses!\n",
    " 4. Next steps\n",
    " \n",
    "In order to get my Fitbit data, I first had to set up a Fitbit API. Then, I ran a separate script - available [here](https://github.com/JessieRayeBauer/Fitbit/blob/master/Pull_fitbit_data.md)."
   ]
  },
  {
   "cell_type": "markdown",
   "metadata": {},
   "source": [
    "###  1. Import or install necessary libraries"
   ]
  },
  {
   "cell_type": "code",
   "execution_count": 69,
   "metadata": {
    "collapsed": true
   },
   "outputs": [],
   "source": [
    "#!pip install fitbit\n",
    "#!pip install -r requirements/base.txt\n",
    "#!pip install -r requirements/dev.txt\n",
    "#!pip install -r requirements/test.txt\n",
    "from time import sleep\n",
    "import fitbit\n",
    "import cherrypy\n",
    "import requests\n",
    "import json\n",
    "import datetime\n",
    "import scipy.stats\n",
    "import pandas as pd\n",
    "import numpy as np\n",
    "\n",
    "# plotting\n",
    "import matplotlib\n",
    "from matplotlib import pyplot as plt\n",
    "import seaborn as sns\n",
    "%matplotlib inline"
   ]
  },
  {
   "cell_type": "markdown",
   "metadata": {},
   "source": [
    "Let's read in one file with heartrate data to check the format and see what the data looks like."
   ]
  },
  {
   "cell_type": "code",
   "execution_count": 70,
   "metadata": {},
   "outputs": [],
   "source": [
    "with open('heartrate/HR2017-12-23.json') as f:\n",
    "    hr_dat_sample = json.loads(f.read())\n",
    "#hr_dat_sample"
   ]
  },
  {
   "cell_type": "markdown",
   "metadata": {},
   "source": [
    "#### That is crazy town output... let's parse the .json file so humans can read it!"
   ]
  },
  {
   "cell_type": "code",
   "execution_count": 71,
   "metadata": {},
   "outputs": [],
   "source": [
    "parsed_json_hr_samp = json.loads(hr_dat_sample)\n",
    "#parsed_json_hr_samp"
   ]
  },
  {
   "cell_type": "code",
   "execution_count": 72,
   "metadata": {},
   "outputs": [
    {
     "data": {
      "text/plain": [
       "[u'datasetType', u'datasetInterval', u'dataset']"
      ]
     },
     "execution_count": 72,
     "metadata": {},
     "output_type": "execute_result"
    }
   ],
   "source": [
    "list(parsed_json_hr_samp['activities-heart-intraday'].keys())"
   ]
  },
  {
   "cell_type": "markdown",
   "metadata": {},
   "source": [
    "Much better. Now we can see the headings inside 'activities-heart-intraday'. "
   ]
  },
  {
   "cell_type": "markdown",
   "metadata": {},
   "source": [
    "## 2. Read in and visualize data\n",
    "\n",
    "## Heart Rate"
   ]
  },
  {
   "cell_type": "code",
   "execution_count": 73,
   "metadata": {
    "collapsed": true
   },
   "outputs": [],
   "source": [
    "dates = pd.date_range('2017-12-23', '2018-01-25')\n",
    "hrval = []\n",
    "\n",
    "for date in dates:\n",
    "    fname = 'heartrate/HR' + date.strftime('%Y-%m-%d') + '.json'\n",
    "    with open(fname) as f:\n",
    "        date_data = json.loads(f.read())\n",
    "        \n",
    "        data = pd.read_json(date_data, typ='series')\n",
    "        hrval.append(data['activities-heart-intraday']['dataset'][1])\n",
    "\n",
    "HR_df = pd.DataFrame(hrval,index = dates)\n",
    "HR_df.columns = ['time', 'bpm']"
   ]
  },
  {
   "cell_type": "code",
   "execution_count": 74,
   "metadata": {},
   "outputs": [
    {
     "data": {
      "text/html": [
       "<div>\n",
       "<style>\n",
       "    .dataframe thead tr:only-child th {\n",
       "        text-align: right;\n",
       "    }\n",
       "\n",
       "    .dataframe thead th {\n",
       "        text-align: left;\n",
       "    }\n",
       "\n",
       "    .dataframe tbody tr th {\n",
       "        vertical-align: top;\n",
       "    }\n",
       "</style>\n",
       "<table border=\"1\" class=\"dataframe\">\n",
       "  <thead>\n",
       "    <tr style=\"text-align: right;\">\n",
       "      <th></th>\n",
       "      <th>time</th>\n",
       "      <th>bpm</th>\n",
       "    </tr>\n",
       "  </thead>\n",
       "  <tbody>\n",
       "    <tr>\n",
       "      <th>2017-12-23</th>\n",
       "      <td>00:00:03</td>\n",
       "      <td>92</td>\n",
       "    </tr>\n",
       "    <tr>\n",
       "      <th>2017-12-24</th>\n",
       "      <td>00:00:04</td>\n",
       "      <td>88</td>\n",
       "    </tr>\n",
       "    <tr>\n",
       "      <th>2017-12-25</th>\n",
       "      <td>00:00:03</td>\n",
       "      <td>94</td>\n",
       "    </tr>\n",
       "    <tr>\n",
       "      <th>2017-12-26</th>\n",
       "      <td>00:00:03</td>\n",
       "      <td>93</td>\n",
       "    </tr>\n",
       "    <tr>\n",
       "      <th>2017-12-27</th>\n",
       "      <td>00:00:03</td>\n",
       "      <td>74</td>\n",
       "    </tr>\n",
       "  </tbody>\n",
       "</table>\n",
       "</div>"
      ],
      "text/plain": [
       "                time  bpm\n",
       "2017-12-23  00:00:03   92\n",
       "2017-12-24  00:00:04   88\n",
       "2017-12-25  00:00:03   94\n",
       "2017-12-26  00:00:03   93\n",
       "2017-12-27  00:00:03   74"
      ]
     },
     "execution_count": 74,
     "metadata": {},
     "output_type": "execute_result"
    }
   ],
   "source": [
    "HR_df.head()"
   ]
  },
  {
   "cell_type": "markdown",
   "metadata": {},
   "source": [
    "This should be where the heart rate statistics are stored. Let's check."
   ]
  },
  {
   "cell_type": "code",
   "execution_count": 75,
   "metadata": {},
   "outputs": [
    {
     "data": {
      "text/html": [
       "<div>\n",
       "<style>\n",
       "    .dataframe thead tr:only-child th {\n",
       "        text-align: right;\n",
       "    }\n",
       "\n",
       "    .dataframe thead th {\n",
       "        text-align: left;\n",
       "    }\n",
       "\n",
       "    .dataframe tbody tr th {\n",
       "        vertical-align: top;\n",
       "    }\n",
       "</style>\n",
       "<table border=\"1\" class=\"dataframe\">\n",
       "  <thead>\n",
       "    <tr style=\"text-align: right;\">\n",
       "      <th></th>\n",
       "      <th>time</th>\n",
       "      <th>value</th>\n",
       "    </tr>\n",
       "  </thead>\n",
       "  <tbody>\n",
       "    <tr>\n",
       "      <th>0</th>\n",
       "      <td>00:00:01</td>\n",
       "      <td>68</td>\n",
       "    </tr>\n",
       "    <tr>\n",
       "      <th>1</th>\n",
       "      <td>00:00:02</td>\n",
       "      <td>69</td>\n",
       "    </tr>\n",
       "    <tr>\n",
       "      <th>2</th>\n",
       "      <td>00:00:05</td>\n",
       "      <td>70</td>\n",
       "    </tr>\n",
       "    <tr>\n",
       "      <th>3</th>\n",
       "      <td>00:00:08</td>\n",
       "      <td>70</td>\n",
       "    </tr>\n",
       "    <tr>\n",
       "      <th>4</th>\n",
       "      <td>00:00:11</td>\n",
       "      <td>69</td>\n",
       "    </tr>\n",
       "  </tbody>\n",
       "</table>\n",
       "</div>"
      ],
      "text/plain": [
       "       time  value\n",
       "0  00:00:01     68\n",
       "1  00:00:02     69\n",
       "2  00:00:05     70\n",
       "3  00:00:08     70\n",
       "4  00:00:11     69"
      ]
     },
     "execution_count": 75,
     "metadata": {},
     "output_type": "execute_result"
    }
   ],
   "source": [
    "stats = data['activities-heart-intraday']['dataset']\n",
    "HR=pd.DataFrame(stats)\n",
    "HR.head()"
   ]
  },
  {
   "cell_type": "markdown",
   "metadata": {},
   "source": [
    "Hooray! Alas, they are here. Let's rename the columns and plot data just to have a look."
   ]
  },
  {
   "cell_type": "code",
   "execution_count": 76,
   "metadata": {},
   "outputs": [
    {
     "data": {
      "image/png": "[encoded data removed]",
      "text/plain": [
       "<matplotlib.figure.Figure at 0x1a140f1ad0>"
      ]
     },
     "metadata": {},
     "output_type": "display_data"
    }
   ],
   "source": [
    "HR.columns = ['time', 'bpm']\n",
    "HR.plot(color = \"firebrick\")\n",
    "plt.ylabel('Heart Rate');"
   ]
  },
  {
   "cell_type": "markdown",
   "metadata": {},
   "source": [
    "That's a lot of data... it's my heartrate for every few seconds for an entire day. \n",
    "\n",
    "Hmmmm... it looks like I went for a run or swim at some point!"
   ]
  },
  {
   "cell_type": "markdown",
   "metadata": {},
   "source": [
    "My researcher instincts are coming out now... Must check for outliers and see the general range of heartrate values!"
   ]
  },
  {
   "cell_type": "code",
   "execution_count": 77,
   "metadata": {},
   "outputs": [
    {
     "data": {
      "text/html": [
       "<div>\n",
       "<style>\n",
       "    .dataframe thead tr:only-child th {\n",
       "        text-align: right;\n",
       "    }\n",
       "\n",
       "    .dataframe thead th {\n",
       "        text-align: left;\n",
       "    }\n",
       "\n",
       "    .dataframe tbody tr th {\n",
       "        vertical-align: top;\n",
       "    }\n",
       "</style>\n",
       "<table border=\"1\" class=\"dataframe\">\n",
       "  <thead>\n",
       "    <tr style=\"text-align: right;\">\n",
       "      <th></th>\n",
       "      <th>bpm</th>\n",
       "    </tr>\n",
       "  </thead>\n",
       "  <tbody>\n",
       "    <tr>\n",
       "      <th>count</th>\n",
       "      <td>25694.000000</td>\n",
       "    </tr>\n",
       "    <tr>\n",
       "      <th>mean</th>\n",
       "      <td>82.025181</td>\n",
       "    </tr>\n",
       "    <tr>\n",
       "      <th>std</th>\n",
       "      <td>18.923871</td>\n",
       "    </tr>\n",
       "    <tr>\n",
       "      <th>min</th>\n",
       "      <td>55.000000</td>\n",
       "    </tr>\n",
       "    <tr>\n",
       "      <th>25%</th>\n",
       "      <td>70.000000</td>\n",
       "    </tr>\n",
       "    <tr>\n",
       "      <th>50%</th>\n",
       "      <td>78.000000</td>\n",
       "    </tr>\n",
       "    <tr>\n",
       "      <th>75%</th>\n",
       "      <td>87.000000</td>\n",
       "    </tr>\n",
       "    <tr>\n",
       "      <th>max</th>\n",
       "      <td>204.000000</td>\n",
       "    </tr>\n",
       "  </tbody>\n",
       "</table>\n",
       "</div>"
      ],
      "text/plain": [
       "                bpm\n",
       "count  25694.000000\n",
       "mean      82.025181\n",
       "std       18.923871\n",
       "min       55.000000\n",
       "25%       70.000000\n",
       "50%       78.000000\n",
       "75%       87.000000\n",
       "max      204.000000"
      ]
     },
     "execution_count": 77,
     "metadata": {},
     "output_type": "execute_result"
    }
   ],
   "source": [
    "HR.describe()"
   ]
  },
  {
   "cell_type": "markdown",
   "metadata": {
    "collapsed": true
   },
   "source": [
    "## Sleep Data\n",
    "\n",
    "Let's repeat the data structure exploration that we did with heartrate for sleep! This code should read in one sleep file, should get the highest level keys: 'summary' and 'sleep'\n"
   ]
  },
  {
   "cell_type": "code",
   "execution_count": 78,
   "metadata": {},
   "outputs": [
    {
     "data": {
      "text/plain": [
       "sleep      [{u'logId': 16665472783, u'dateOfSleep': u'201...\n",
       "summary    {u'totalTimeInBed': 547, u'stages': {u'light':...\n",
       "dtype: object"
      ]
     },
     "execution_count": 78,
     "metadata": {},
     "output_type": "execute_result"
    }
   ],
   "source": [
    "with open('sleep/sleep2017-12-23.json') as f:\n",
    "    sleepdat = json.loads(f.read())\n",
    "sleepdata = pd.read_json(sleepdat, typ='series')\n",
    "sleepdata"
   ]
  },
  {
   "cell_type": "code",
   "execution_count": 79,
   "metadata": {},
   "outputs": [],
   "source": [
    "parsed_json = json.loads(sleepdat)\n",
    "#print(json.dumps(parsed_json))"
   ]
  },
  {
   "cell_type": "markdown",
   "metadata": {},
   "source": [
    "Let's parse this guy."
   ]
  },
  {
   "cell_type": "code",
   "execution_count": 80,
   "metadata": {},
   "outputs": [
    {
     "data": {
      "text/plain": [
       "[u'logId',\n",
       " u'dateOfSleep',\n",
       " u'minutesToFallAsleep',\n",
       " u'awakeningsCount',\n",
       " u'minutesAwake',\n",
       " u'timeInBed',\n",
       " u'minutesAsleep',\n",
       " u'awakeDuration',\n",
       " u'efficiency',\n",
       " u'isMainSleep',\n",
       " u'startTime',\n",
       " u'restlessCount',\n",
       " u'duration',\n",
       " u'restlessDuration',\n",
       " u'minuteData',\n",
       " u'endTime',\n",
       " u'awakeCount',\n",
       " u'minutesAfterWakeup']"
      ]
     },
     "execution_count": 80,
     "metadata": {},
     "output_type": "execute_result"
    }
   ],
   "source": [
    "list(parsed_json['sleep'][0].keys())"
   ]
  },
  {
   "cell_type": "markdown",
   "metadata": {},
   "source": [
    "Now we are ready to read in all the sleep files. I then concatonated the files using the .append command. Finally, I convert the data frame into a pandas data frame using the pd.DataFrame command. Boom."
   ]
  },
  {
   "cell_type": "code",
   "execution_count": 81,
   "metadata": {
    "collapsed": true
   },
   "outputs": [],
   "source": [
    "sleepy = []\n",
    "for date in dates:\n",
    "    fname = 'sleep/sleep' + date.strftime('%Y-%m-%d') + '.json'\n",
    "    with open(fname) as f:\n",
    "        date_data_sleep = json.loads(f.read())\n",
    "        datsleep = pd.read_json(date_data_sleep, typ='series')\n",
    "        sleepy.append(datsleep['summary']['totalTimeInBed'])\n",
    "\n",
    "sleepdf = pd.DataFrame(sleepy,index = dates) #use the date as the column row names\n",
    "sleepdf.columns = ['hours'] #rename column\n",
    "sleepdf['hours'] = sleepdf['hours']/60 # Turn minutes to hours"
   ]
  },
  {
   "cell_type": "markdown",
   "metadata": {},
   "source": [
    "Time to see the beautiful new df!"
   ]
  },
  {
   "cell_type": "code",
   "execution_count": 82,
   "metadata": {},
   "outputs": [
    {
     "data": {
      "text/html": [
       "<div>\n",
       "<style>\n",
       "    .dataframe thead tr:only-child th {\n",
       "        text-align: right;\n",
       "    }\n",
       "\n",
       "    .dataframe thead th {\n",
       "        text-align: left;\n",
       "    }\n",
       "\n",
       "    .dataframe tbody tr th {\n",
       "        vertical-align: top;\n",
       "    }\n",
       "</style>\n",
       "<table border=\"1\" class=\"dataframe\">\n",
       "  <thead>\n",
       "    <tr style=\"text-align: right;\">\n",
       "      <th></th>\n",
       "      <th>hours</th>\n",
       "    </tr>\n",
       "  </thead>\n",
       "  <tbody>\n",
       "    <tr>\n",
       "      <th>2017-12-23</th>\n",
       "      <td>9.116667</td>\n",
       "    </tr>\n",
       "    <tr>\n",
       "      <th>2017-12-24</th>\n",
       "      <td>9.250000</td>\n",
       "    </tr>\n",
       "    <tr>\n",
       "      <th>2017-12-25</th>\n",
       "      <td>8.683333</td>\n",
       "    </tr>\n",
       "    <tr>\n",
       "      <th>2017-12-26</th>\n",
       "      <td>9.966667</td>\n",
       "    </tr>\n",
       "    <tr>\n",
       "      <th>2017-12-27</th>\n",
       "      <td>7.500000</td>\n",
       "    </tr>\n",
       "  </tbody>\n",
       "</table>\n",
       "</div>"
      ],
      "text/plain": [
       "               hours\n",
       "2017-12-23  9.116667\n",
       "2017-12-24  9.250000\n",
       "2017-12-25  8.683333\n",
       "2017-12-26  9.966667\n",
       "2017-12-27  7.500000"
      ]
     },
     "execution_count": 82,
     "metadata": {},
     "output_type": "execute_result"
    }
   ],
   "source": [
    "sleepdf.head()"
   ]
  },
  {
   "cell_type": "markdown",
   "metadata": {},
   "source": [
    "And again, check for outliers just in case. You never know. But, it all looks good."
   ]
  },
  {
   "cell_type": "code",
   "execution_count": 83,
   "metadata": {},
   "outputs": [
    {
     "data": {
      "text/html": [
       "<div>\n",
       "<style>\n",
       "    .dataframe thead tr:only-child th {\n",
       "        text-align: right;\n",
       "    }\n",
       "\n",
       "    .dataframe thead th {\n",
       "        text-align: left;\n",
       "    }\n",
       "\n",
       "    .dataframe tbody tr th {\n",
       "        vertical-align: top;\n",
       "    }\n",
       "</style>\n",
       "<table border=\"1\" class=\"dataframe\">\n",
       "  <thead>\n",
       "    <tr style=\"text-align: right;\">\n",
       "      <th></th>\n",
       "      <th>hours</th>\n",
       "    </tr>\n",
       "  </thead>\n",
       "  <tbody>\n",
       "    <tr>\n",
       "      <th>count</th>\n",
       "      <td>34.000000</td>\n",
       "    </tr>\n",
       "    <tr>\n",
       "      <th>mean</th>\n",
       "      <td>8.486765</td>\n",
       "    </tr>\n",
       "    <tr>\n",
       "      <th>std</th>\n",
       "      <td>1.420336</td>\n",
       "    </tr>\n",
       "    <tr>\n",
       "      <th>min</th>\n",
       "      <td>4.966667</td>\n",
       "    </tr>\n",
       "    <tr>\n",
       "      <th>25%</th>\n",
       "      <td>7.587500</td>\n",
       "    </tr>\n",
       "    <tr>\n",
       "      <th>50%</th>\n",
       "      <td>8.383333</td>\n",
       "    </tr>\n",
       "    <tr>\n",
       "      <th>75%</th>\n",
       "      <td>9.312500</td>\n",
       "    </tr>\n",
       "    <tr>\n",
       "      <th>max</th>\n",
       "      <td>12.066667</td>\n",
       "    </tr>\n",
       "  </tbody>\n",
       "</table>\n",
       "</div>"
      ],
      "text/plain": [
       "           hours\n",
       "count  34.000000\n",
       "mean    8.486765\n",
       "std     1.420336\n",
       "min     4.966667\n",
       "25%     7.587500\n",
       "50%     8.383333\n",
       "75%     9.312500\n",
       "max    12.066667"
      ]
     },
     "execution_count": 83,
     "metadata": {},
     "output_type": "execute_result"
    }
   ],
   "source": [
    "sleepdf.describe()"
   ]
  },
  {
   "cell_type": "markdown",
   "metadata": {},
   "source": [
    "Plot it out in a nice simple graph (ya basic). I should probably stick to a better sleep schedule."
   ]
  },
  {
   "cell_type": "code",
   "execution_count": 84,
   "metadata": {},
   "outputs": [
    {
     "data": {
      "image/png": "[encoded data removed]",
      "text/plain": [
       "<matplotlib.figure.Figure at 0x1a1374dcd0>"
      ]
     },
     "metadata": {},
     "output_type": "display_data"
    }
   ],
   "source": [
    "sleepdf['hours'].plot(color = \"mediumseagreen\")\n",
    "plt.title('Hours of Sleep (12.23.17-1.25.18)')\n",
    "plt.ylabel('Hours')\n",
    "plt.show()"
   ]
  },
  {
   "cell_type": "markdown",
   "metadata": {},
   "source": [
    "Let's plot the sleep data another way...how about a distribution?\n",
    "\n",
    "By the way, what do you call a haunted distrubution?  A paranormal distribution. Ha! Sorry guys. "
   ]
  },
  {
   "cell_type": "code",
   "execution_count": 85,
   "metadata": {},
   "outputs": [
    {
     "data": {
      "image/png": "[encoded data removed]",
      "text/plain": [
       "<matplotlib.figure.Figure at 0x1a17f62ad0>"
      ]
     },
     "metadata": {},
     "output_type": "display_data"
    }
   ],
   "source": [
    "sns.distplot(sleepdf['hours'], color=\"mediumseagreen\")\n",
    "plt.title(\"My Sleep Distribution\")\n",
    "plt.xlabel(\"Hours\")\n",
    "plt.show()"
   ]
  },
  {
   "cell_type": "markdown",
   "metadata": {},
   "source": [
    "Add column and labels for day of week, just as before."
   ]
  },
  {
   "cell_type": "code",
   "execution_count": 86,
   "metadata": {},
   "outputs": [
    {
     "data": {
      "text/html": [
       "<div>\n",
       "<style>\n",
       "    .dataframe thead tr:only-child th {\n",
       "        text-align: right;\n",
       "    }\n",
       "\n",
       "    .dataframe thead th {\n",
       "        text-align: left;\n",
       "    }\n",
       "\n",
       "    .dataframe tbody tr th {\n",
       "        vertical-align: top;\n",
       "    }\n",
       "</style>\n",
       "<table border=\"1\" class=\"dataframe\">\n",
       "  <thead>\n",
       "    <tr style=\"text-align: right;\">\n",
       "      <th></th>\n",
       "      <th>hours</th>\n",
       "      <th>day_of_week</th>\n",
       "      <th>day_name</th>\n",
       "    </tr>\n",
       "  </thead>\n",
       "  <tbody>\n",
       "    <tr>\n",
       "      <th>2017-12-23</th>\n",
       "      <td>9.116667</td>\n",
       "      <td>5</td>\n",
       "      <td>Saturday</td>\n",
       "    </tr>\n",
       "    <tr>\n",
       "      <th>2017-12-24</th>\n",
       "      <td>9.250000</td>\n",
       "      <td>6</td>\n",
       "      <td>Sunday</td>\n",
       "    </tr>\n",
       "    <tr>\n",
       "      <th>2017-12-25</th>\n",
       "      <td>8.683333</td>\n",
       "      <td>0</td>\n",
       "      <td>Monday</td>\n",
       "    </tr>\n",
       "    <tr>\n",
       "      <th>2017-12-26</th>\n",
       "      <td>9.966667</td>\n",
       "      <td>1</td>\n",
       "      <td>Tuesday</td>\n",
       "    </tr>\n",
       "    <tr>\n",
       "      <th>2017-12-27</th>\n",
       "      <td>7.500000</td>\n",
       "      <td>2</td>\n",
       "      <td>Wednesday</td>\n",
       "    </tr>\n",
       "  </tbody>\n",
       "</table>\n",
       "</div>"
      ],
      "text/plain": [
       "               hours  day_of_week   day_name\n",
       "2017-12-23  9.116667            5   Saturday\n",
       "2017-12-24  9.250000            6     Sunday\n",
       "2017-12-25  8.683333            0     Monday\n",
       "2017-12-26  9.966667            1    Tuesday\n",
       "2017-12-27  7.500000            2  Wednesday"
      ]
     },
     "execution_count": 86,
     "metadata": {},
     "output_type": "execute_result"
    }
   ],
   "source": [
    "sleepdf[\"day_of_week\"] = sleepdf.index.weekday\n",
    "days = {0: \"Monday\", 1: \"Tuesday\", 2: \"Wednesday\", 3: \"Thursday\", 4: \"Friday\", \n",
    "        5: \"Saturday\", 6: \"Sunday\"}\n",
    "sleepdf[\"day_name\"] = sleepdf[\"day_of_week\"].apply(lambda x: days[x])\n",
    "sleepdf.head()"
   ]
  },
  {
   "cell_type": "markdown",
   "metadata": {},
   "source": [
    "For kicks, we should probably check and officially see if we have an even amount of data per day (in case I forgot to put it on one night or the battery died). "
   ]
  },
  {
   "cell_type": "markdown",
   "metadata": {},
   "source": [
    "This is important if we want to trust the accuracy of our analyses related to days of the week! According to the plot, it's all pretty even, except for Friday. This is because I imported data before the 5th Friday."
   ]
  },
  {
   "cell_type": "code",
   "execution_count": 87,
   "metadata": {},
   "outputs": [
    {
     "data": {
      "image/png": "[encoded data removed]",
      "text/plain": [
       "<matplotlib.figure.Figure at 0x1a1f96fc50>"
      ]
     },
     "metadata": {},
     "output_type": "display_data"
    }
   ],
   "source": [
    "# Make a Bar Plot \n",
    "sns.countplot(x='day_name', data=sleepdf, palette = \"Set2\")\n",
    "plt.xticks(rotation=45)\n",
    "plt.xlabel(\"\")\n",
    "plt.show()"
   ]
  },
  {
   "cell_type": "markdown",
   "metadata": {},
   "source": [
    "How does my sleep vary from day to day? Looks like Sunday is really variable."
   ]
  },
  {
   "cell_type": "code",
   "execution_count": 88,
   "metadata": {
    "scrolled": true
   },
   "outputs": [
    {
     "data": {
      "image/png": "[encoded data removed]",
      "text/plain": [
       "<matplotlib.figure.Figure at 0x1a1fab6290>"
      ]
     },
     "metadata": {},
     "output_type": "display_data"
    }
   ],
   "source": [
    "sns.swarmplot(x='day_name', y='hours', data=sleepdf,  palette = \"Set2\")\n",
    "plt.xticks(rotation=45)\n",
    "plt.title(\"Sleep Distribution Over the Week\")\n",
    "plt.ylabel(\"Hours\")\n",
    "plt.xlabel(\"\")\n",
    "plt.show()"
   ]
  },
  {
   "cell_type": "markdown",
   "metadata": {},
   "source": [
    "For kicks, we should probably check and officially see if we have an even amount of data per day (in case I forgot to put it on one night or the battery died). This is important if we want to trust the accuracy of our analyses related to days of the week!"
   ]
  },
  {
   "cell_type": "markdown",
   "metadata": {},
   "source": [
    "Another view- violin style!"
   ]
  },
  {
   "cell_type": "code",
   "execution_count": 89,
   "metadata": {},
   "outputs": [
    {
     "data": {
      "image/png": "[encoded data removed]",
      "text/plain": [
       "<matplotlib.figure.Figure at 0x1a1e85fcd0>"
      ]
     },
     "metadata": {},
     "output_type": "display_data"
    }
   ],
   "source": [
    "sns.violinplot(x='day_name',\n",
    "               y='hours', \n",
    "               data=sleepdf, \n",
    "               inner=None, palette = 'Set2' ) # Remove the bars inside the violins\n",
    "\n",
    "## plot the dots we see above over the violin plot.\n",
    "sns.swarmplot(x='day_name',\n",
    "               y='hours', \n",
    "              data=sleepdf, \n",
    "              color='k', \n",
    "              alpha=0.7)\n",
    " \n",
    "# Set title with matplotlib\n",
    "plt.title('Sleep by Day')\n",
    "plt.xticks(rotation=45)\n",
    "plt.show()"
   ]
  },
  {
   "cell_type": "markdown",
   "metadata": {},
   "source": [
    "Okay, last sleep plot visual, for now. The graph below is more typical of something I would encounter in academia, and it also shows the standard errors of my sleep during each day. "
   ]
  },
  {
   "cell_type": "code",
   "execution_count": 90,
   "metadata": {},
   "outputs": [
    {
     "data": {
      "image/png": "[encoded data removed]",
      "text/plain": [
       "<matplotlib.figure.Figure at 0x1a17b01190>"
      ]
     },
     "metadata": {},
     "output_type": "display_data"
    }
   ],
   "source": [
    "sns.boxplot(x = 'day_name', y = 'hours', data = sleepdf, palette = 'Set2')\n",
    "plt.title('Hours of Sleep by Day')\n",
    "plt.xticks(rotation=45)\n",
    "plt.xlabel(\"\") \n",
    "plt.ylabel(\"\")\n",
    "plt.show()"
   ]
  },
  {
   "cell_type": "markdown",
   "metadata": {},
   "source": [
    "## Step data \n",
    "\n",
    "Read it in. And check structure of .json file, it's a mystery. "
   ]
  },
  {
   "cell_type": "code",
   "execution_count": 91,
   "metadata": {},
   "outputs": [
    {
     "data": {
      "text/plain": [
       "activities-steps    [{u'value': u'12721', u'dateTime': u'2018-01-1...\n",
       "dtype: object"
      ]
     },
     "execution_count": 91,
     "metadata": {},
     "output_type": "execute_result"
    }
   ],
   "source": [
    "with open('steps/step2018-01-13.json') as f:\n",
    "    step_data = json.loads(f.read())\n",
    "stepsdata = pd.read_json(step_data, typ='series')\n",
    "stepsdata"
   ]
  },
  {
   "cell_type": "code",
   "execution_count": 92,
   "metadata": {},
   "outputs": [],
   "source": [
    "parsed_json = json.loads(step_data)\n",
    "#print(json.dumps(parsed_json))\n"
   ]
  },
  {
   "cell_type": "markdown",
   "metadata": {},
   "source": [
    "Get higher level key name(s)."
   ]
  },
  {
   "cell_type": "code",
   "execution_count": 93,
   "metadata": {},
   "outputs": [
    {
     "data": {
      "text/plain": [
       "[u'activities-steps']"
      ]
     },
     "execution_count": 93,
     "metadata": {},
     "output_type": "execute_result"
    }
   ],
   "source": [
    "list(parsed_json.keys())"
   ]
  },
  {
   "cell_type": "code",
   "execution_count": 94,
   "metadata": {
    "collapsed": true
   },
   "outputs": [],
   "source": [
    "dates = pd.date_range('2017-12-23', '2018-01-25')\n",
    "steppers = []\n",
    "for date in dates:\n",
    "    fname = 'steps/step' + date.strftime('%Y-%m-%d') + '.json'\n",
    "    with open(fname) as f:\n",
    "        date_data = json.loads(f.read())\n",
    "        \n",
    "        stepsdata = pd.read_json(date_data, typ='series')\n",
    "        steppers.append(stepsdata['activities-steps'][0]) # the zero indexes the first value\n",
    "\n",
    "stepsdf = pd.DataFrame(steppers,index = dates) # use date as row index\n",
    "stepsdf.columns = ['date','steps'] # rename columns"
   ]
  },
  {
   "cell_type": "code",
   "execution_count": 95,
   "metadata": {},
   "outputs": [
    {
     "data": {
      "text/html": [
       "<div>\n",
       "<style>\n",
       "    .dataframe thead tr:only-child th {\n",
       "        text-align: right;\n",
       "    }\n",
       "\n",
       "    .dataframe thead th {\n",
       "        text-align: left;\n",
       "    }\n",
       "\n",
       "    .dataframe tbody tr th {\n",
       "        vertical-align: top;\n",
       "    }\n",
       "</style>\n",
       "<table border=\"1\" class=\"dataframe\">\n",
       "  <thead>\n",
       "    <tr style=\"text-align: right;\">\n",
       "      <th></th>\n",
       "      <th>date</th>\n",
       "      <th>steps</th>\n",
       "    </tr>\n",
       "  </thead>\n",
       "  <tbody>\n",
       "    <tr>\n",
       "      <th>2017-12-23</th>\n",
       "      <td>2017-12-23</td>\n",
       "      <td>4238</td>\n",
       "    </tr>\n",
       "    <tr>\n",
       "      <th>2017-12-24</th>\n",
       "      <td>2017-12-24</td>\n",
       "      <td>10776</td>\n",
       "    </tr>\n",
       "    <tr>\n",
       "      <th>2017-12-25</th>\n",
       "      <td>2017-12-25</td>\n",
       "      <td>4928</td>\n",
       "    </tr>\n",
       "    <tr>\n",
       "      <th>2017-12-26</th>\n",
       "      <td>2017-12-26</td>\n",
       "      <td>9468</td>\n",
       "    </tr>\n",
       "    <tr>\n",
       "      <th>2017-12-27</th>\n",
       "      <td>2017-12-27</td>\n",
       "      <td>7046</td>\n",
       "    </tr>\n",
       "  </tbody>\n",
       "</table>\n",
       "</div>"
      ],
      "text/plain": [
       "                  date  steps\n",
       "2017-12-23  2017-12-23   4238\n",
       "2017-12-24  2017-12-24  10776\n",
       "2017-12-25  2017-12-25   4928\n",
       "2017-12-26  2017-12-26   9468\n",
       "2017-12-27  2017-12-27   7046"
      ]
     },
     "execution_count": 95,
     "metadata": {},
     "output_type": "execute_result"
    }
   ],
   "source": [
    "stepsdf.head()"
   ]
  },
  {
   "cell_type": "markdown",
   "metadata": {},
   "source": [
    "Add column for the day of week, just as before. "
   ]
  },
  {
   "cell_type": "code",
   "execution_count": 96,
   "metadata": {},
   "outputs": [
    {
     "data": {
      "text/html": [
       "<div>\n",
       "<style>\n",
       "    .dataframe thead tr:only-child th {\n",
       "        text-align: right;\n",
       "    }\n",
       "\n",
       "    .dataframe thead th {\n",
       "        text-align: left;\n",
       "    }\n",
       "\n",
       "    .dataframe tbody tr th {\n",
       "        vertical-align: top;\n",
       "    }\n",
       "</style>\n",
       "<table border=\"1\" class=\"dataframe\">\n",
       "  <thead>\n",
       "    <tr style=\"text-align: right;\">\n",
       "      <th></th>\n",
       "      <th>date</th>\n",
       "      <th>steps</th>\n",
       "      <th>day_of_week</th>\n",
       "      <th>day_name</th>\n",
       "    </tr>\n",
       "  </thead>\n",
       "  <tbody>\n",
       "    <tr>\n",
       "      <th>2017-12-23</th>\n",
       "      <td>2017-12-23</td>\n",
       "      <td>4238</td>\n",
       "      <td>5</td>\n",
       "      <td>Saturday</td>\n",
       "    </tr>\n",
       "    <tr>\n",
       "      <th>2017-12-24</th>\n",
       "      <td>2017-12-24</td>\n",
       "      <td>10776</td>\n",
       "      <td>6</td>\n",
       "      <td>Sunday</td>\n",
       "    </tr>\n",
       "    <tr>\n",
       "      <th>2017-12-25</th>\n",
       "      <td>2017-12-25</td>\n",
       "      <td>4928</td>\n",
       "      <td>0</td>\n",
       "      <td>Monday</td>\n",
       "    </tr>\n",
       "    <tr>\n",
       "      <th>2017-12-26</th>\n",
       "      <td>2017-12-26</td>\n",
       "      <td>9468</td>\n",
       "      <td>1</td>\n",
       "      <td>Tuesday</td>\n",
       "    </tr>\n",
       "    <tr>\n",
       "      <th>2017-12-27</th>\n",
       "      <td>2017-12-27</td>\n",
       "      <td>7046</td>\n",
       "      <td>2</td>\n",
       "      <td>Wednesday</td>\n",
       "    </tr>\n",
       "  </tbody>\n",
       "</table>\n",
       "</div>"
      ],
      "text/plain": [
       "                  date  steps  day_of_week   day_name\n",
       "2017-12-23  2017-12-23   4238            5   Saturday\n",
       "2017-12-24  2017-12-24  10776            6     Sunday\n",
       "2017-12-25  2017-12-25   4928            0     Monday\n",
       "2017-12-26  2017-12-26   9468            1    Tuesday\n",
       "2017-12-27  2017-12-27   7046            2  Wednesday"
      ]
     },
     "execution_count": 96,
     "metadata": {},
     "output_type": "execute_result"
    }
   ],
   "source": [
    "stepsdf[\"day_of_week\"] = stepsdf.index.weekday\n",
    "stepsdf[\"day_name\"] = stepsdf[\"day_of_week\"].apply(lambda x: days[x])\n",
    "#Have a look!\n",
    "stepsdf.head()"
   ]
  },
  {
   "cell_type": "markdown",
   "metadata": {},
   "source": [
    "To perform any analyses or plot data, we need to convert steps column into a numeric type. Otherwise we get errors. We don't like errors."
   ]
  },
  {
   "cell_type": "code",
   "execution_count": 97,
   "metadata": {},
   "outputs": [
    {
     "name": "stdout",
     "output_type": "stream",
     "text": [
      "<class 'pandas.core.frame.DataFrame'>\n",
      "DatetimeIndex: 34 entries, 2017-12-23 to 2018-01-25\n",
      "Freq: D\n",
      "Data columns (total 4 columns):\n",
      "date           34 non-null object\n",
      "steps          34 non-null int64\n",
      "day_of_week    34 non-null int64\n",
      "day_name       34 non-null object\n",
      "dtypes: int64(2), object(2)\n",
      "memory usage: 1.3+ KB\n"
     ]
    }
   ],
   "source": [
    "stepsdf['steps'] = pd.to_numeric(stepsdf['steps'])\n",
    "stepsdf.info()"
   ]
  },
  {
   "cell_type": "markdown",
   "metadata": {},
   "source": [
    "Now it's numeric! Anything is pos-iiii-ble!"
   ]
  },
  {
   "cell_type": "markdown",
   "metadata": {},
   "source": [
    "Anywho... let's see my step distribution."
   ]
  },
  {
   "cell_type": "code",
   "execution_count": 98,
   "metadata": {},
   "outputs": [
    {
     "data": {
      "image/png": "[encoded data removed]",
      "text/plain": [
       "<matplotlib.figure.Figure at 0x1a142ed410>"
      ]
     },
     "metadata": {},
     "output_type": "display_data"
    }
   ],
   "source": [
    "sns.set_style(\"ticks\")\n",
    "sns.distplot(stepsdf['steps'], color = 'steelblue')\n",
    "plt.title(\"Step Distribution\")\n",
    "plt.xlabel(\"Steps\") \n",
    "plt.show()"
   ]
  },
  {
   "cell_type": "markdown",
   "metadata": {},
   "source": [
    "Violin time."
   ]
  },
  {
   "cell_type": "markdown",
   "metadata": {},
   "source": [
    " I shall call it: \"Friday: run or couch?\""
   ]
  },
  {
   "cell_type": "code",
   "execution_count": 99,
   "metadata": {},
   "outputs": [
    {
     "data": {
      "image/png": "[encoded data removed]",
      "text/plain": [
       "<matplotlib.figure.Figure at 0x1a1e7f9d90>"
      ]
     },
     "metadata": {},
     "output_type": "display_data"
    }
   ],
   "source": [
    "sns.violinplot(x='day_name',\n",
    "               y='steps', \n",
    "               data=stepsdf, \n",
    "               inner=None, palette=\"Set3\" ) # Remove the bars inside the violins\n",
    "            \n",
    "## Overlay dots onto violins.\n",
    "sns.swarmplot(x='day_name',\n",
    "               y='steps', \n",
    "              data=stepsdf, \n",
    "              color='k',  #black dots\n",
    "              alpha = 0.5)\n",
    "plt.title('Steps by Day')\n",
    "plt.xticks(rotation=45)\n",
    "plt.xlabel(\"\") \n",
    "plt.ylabel(\"\")\n",
    "plt.show()"
   ]
  },
  {
   "cell_type": "markdown",
   "metadata": {},
   "source": [
    "Boxplot - bam."
   ]
  },
  {
   "cell_type": "code",
   "execution_count": 100,
   "metadata": {},
   "outputs": [
    {
     "data": {
      "image/png": "[encoded data removed]",
      "text/plain": [
       "<matplotlib.figure.Figure at 0x1a14270e10>"
      ]
     },
     "metadata": {},
     "output_type": "display_data"
    }
   ],
   "source": [
    "sns.boxplot(x = 'day_name', y = 'steps', data = stepsdf, palette=\"Set3\")\n",
    "plt.title('Steps by Day')\n",
    "plt.xticks(rotation=45)\n",
    "plt.xlabel(\"\") \n",
    "plt.ylabel(\"\")\n",
    "plt.show()"
   ]
  },
  {
   "cell_type": "code",
   "execution_count": 101,
   "metadata": {},
   "outputs": [],
   "source": [
    "## Put hours into the right format\n",
    "import statsmodels.api as sm\n",
    "import statsmodels.formula.api as smf\n",
    "from pandas.core import datetools\n",
    "stepsdf['hours'] = sleepdf['hours'].values"
   ]
  },
  {
   "cell_type": "markdown",
   "metadata": {},
   "source": [
    "## 3. Analyses (!!)\n",
    "\n",
    "## Linear regression models\n",
    "\n",
    "### Question 1: Am I more active on days after I get more sleep? \n",
    "\n",
    "I am operationalizing active to mean more steps per day.\n",
    "\n",
    "In the model below, I am predicting my steps from the hours of sleep I got the night before. I am using an ordinary least squares regression model. Below is the code for the model, fitting the model, and displaying the results. "
   ]
  },
  {
   "cell_type": "markdown",
   "metadata": {},
   "source": [
    "First, create variable for the previous night's sleep and align it properly."
   ]
  },
  {
   "cell_type": "code",
   "execution_count": 102,
   "metadata": {},
   "outputs": [
    {
     "data": {
      "text/html": [
       "<div>\n",
       "<style>\n",
       "    .dataframe thead tr:only-child th {\n",
       "        text-align: right;\n",
       "    }\n",
       "\n",
       "    .dataframe thead th {\n",
       "        text-align: left;\n",
       "    }\n",
       "\n",
       "    .dataframe tbody tr th {\n",
       "        vertical-align: top;\n",
       "    }\n",
       "</style>\n",
       "<table border=\"1\" class=\"dataframe\">\n",
       "  <thead>\n",
       "    <tr style=\"text-align: right;\">\n",
       "      <th></th>\n",
       "      <th>date</th>\n",
       "      <th>steps</th>\n",
       "      <th>day_of_week</th>\n",
       "      <th>day_name</th>\n",
       "      <th>hours</th>\n",
       "      <th>hours_prev</th>\n",
       "    </tr>\n",
       "  </thead>\n",
       "  <tbody>\n",
       "    <tr>\n",
       "      <th>2017-12-23</th>\n",
       "      <td>2017-12-23</td>\n",
       "      <td>4238</td>\n",
       "      <td>5</td>\n",
       "      <td>Saturday</td>\n",
       "      <td>9.116667</td>\n",
       "      <td>NaN</td>\n",
       "    </tr>\n",
       "    <tr>\n",
       "      <th>2017-12-24</th>\n",
       "      <td>2017-12-24</td>\n",
       "      <td>10776</td>\n",
       "      <td>6</td>\n",
       "      <td>Sunday</td>\n",
       "      <td>9.250000</td>\n",
       "      <td>9.116667</td>\n",
       "    </tr>\n",
       "    <tr>\n",
       "      <th>2017-12-25</th>\n",
       "      <td>2017-12-25</td>\n",
       "      <td>4928</td>\n",
       "      <td>0</td>\n",
       "      <td>Monday</td>\n",
       "      <td>8.683333</td>\n",
       "      <td>9.250000</td>\n",
       "    </tr>\n",
       "    <tr>\n",
       "      <th>2017-12-26</th>\n",
       "      <td>2017-12-26</td>\n",
       "      <td>9468</td>\n",
       "      <td>1</td>\n",
       "      <td>Tuesday</td>\n",
       "      <td>9.966667</td>\n",
       "      <td>8.683333</td>\n",
       "    </tr>\n",
       "    <tr>\n",
       "      <th>2017-12-27</th>\n",
       "      <td>2017-12-27</td>\n",
       "      <td>7046</td>\n",
       "      <td>2</td>\n",
       "      <td>Wednesday</td>\n",
       "      <td>7.500000</td>\n",
       "      <td>9.966667</td>\n",
       "    </tr>\n",
       "  </tbody>\n",
       "</table>\n",
       "</div>"
      ],
      "text/plain": [
       "                  date  steps  day_of_week   day_name     hours  hours_prev\n",
       "2017-12-23  2017-12-23   4238            5   Saturday  9.116667         NaN\n",
       "2017-12-24  2017-12-24  10776            6     Sunday  9.250000    9.116667\n",
       "2017-12-25  2017-12-25   4928            0     Monday  8.683333    9.250000\n",
       "2017-12-26  2017-12-26   9468            1    Tuesday  9.966667    8.683333\n",
       "2017-12-27  2017-12-27   7046            2  Wednesday  7.500000    9.966667"
      ]
     },
     "execution_count": 102,
     "metadata": {},
     "output_type": "execute_result"
    }
   ],
   "source": [
    "stepsdf[\"hours_prev\"] = stepsdf.shift(1).hours\n",
    "stepsdf.head()"
   ]
  },
  {
   "cell_type": "code",
   "execution_count": 103,
   "metadata": {},
   "outputs": [
    {
     "data": {
      "text/html": [
       "<table class=\"simpletable\">\n",
       "<tr>\n",
       "       <td></td>         <th>coef</th>     <th>std err</th>      <th>t</th>      <th>P>|t|</th>  <th>[0.025</th>    <th>0.975]</th>  \n",
       "</tr>\n",
       "<tr>\n",
       "  <th>Intercept</th>  <td> 7624.5193</td> <td> 3320.426</td> <td>    2.296</td> <td> 0.029</td> <td>  852.465</td> <td> 1.44e+04</td>\n",
       "</tr>\n",
       "<tr>\n",
       "  <th>hours_prev</th> <td>  130.7044</td> <td>  384.278</td> <td>    0.340</td> <td> 0.736</td> <td> -653.036</td> <td>  914.445</td>\n",
       "</tr>\n",
       "</table>"
      ],
      "text/plain": [
       "<class 'statsmodels.iolib.table.SimpleTable'>"
      ]
     },
     "execution_count": 103,
     "metadata": {},
     "output_type": "execute_result"
    }
   ],
   "source": [
    "mod1 = smf.ols(formula = \"steps ~ hours_prev\", data = stepsdf).fit()\n",
    "mod1.summary().tables[1]"
   ]
  },
  {
   "cell_type": "markdown",
   "metadata": {},
   "source": [
    "## Results:\n",
    "\n",
    "So, we can see from the regression table that how many hours I slept the previous night ('hours_prev') does not predict the amount of steps I take the next day. This might be for a variety of reasons. First, I don't have a lot of data yet! I have only used my Fitbit for a month. Second, I am a graduate student, and my sleep is incredibly variable. Third- I love to be active! Even if I am tired, a run usually makes me feel better. Long story short is, we need more data!"
   ]
  },
  {
   "cell_type": "code",
   "execution_count": 104,
   "metadata": {},
   "outputs": [
    {
     "data": {
      "image/png": "[encoded data removed]",
      "text/plain": [
       "<matplotlib.figure.Figure at 0x1a15f04790>"
      ]
     },
     "metadata": {},
     "output_type": "display_data"
    }
   ],
   "source": [
    "sns.regplot(x = stepsdf.steps, y = stepsdf.hours_prev, color = 'steelblue')\n",
    "plt.xlabel(\"Daily Steps\")\n",
    "plt.ylabel(\"Hours of Sleep\")\n",
    "plt.title(\"Does Sleep Amount Predict Activity Level?\")\n",
    "plt.show()"
   ]
  },
  {
   "cell_type": "markdown",
   "metadata": {},
   "source": [
    "That flat line shows that there is no linear relationship- it's flat as a pancake, which sounds amazing right now."
   ]
  },
  {
   "cell_type": "markdown",
   "metadata": {},
   "source": [
    "## Linear regression model  part 2\n",
    "\n",
    "### Question 2: Do I sleep need more sleep the night after I don't get a lot of sleep? In other words, am I building up a sleep deficit?\n",
    "\n",
    "In the model below, I am predicting the difference in amount of sleep I get from the hours of sleep I got the night before. I am using an ordinary least squares regression model. Below is the code for the model, fitting the model, and displaying the results. \n",
    "\n",
    "But first, we need to create a delta sleep variable to capture the difference in amount of sleep I got from the night before. "
   ]
  },
  {
   "cell_type": "code",
   "execution_count": 105,
   "metadata": {},
   "outputs": [
    {
     "data": {
      "text/html": [
       "<div>\n",
       "<style>\n",
       "    .dataframe thead tr:only-child th {\n",
       "        text-align: right;\n",
       "    }\n",
       "\n",
       "    .dataframe thead th {\n",
       "        text-align: left;\n",
       "    }\n",
       "\n",
       "    .dataframe tbody tr th {\n",
       "        vertical-align: top;\n",
       "    }\n",
       "</style>\n",
       "<table border=\"1\" class=\"dataframe\">\n",
       "  <thead>\n",
       "    <tr style=\"text-align: right;\">\n",
       "      <th></th>\n",
       "      <th>date</th>\n",
       "      <th>steps</th>\n",
       "      <th>day_of_week</th>\n",
       "      <th>day_name</th>\n",
       "      <th>hours</th>\n",
       "      <th>hours_prev</th>\n",
       "      <th>hours_diff</th>\n",
       "    </tr>\n",
       "  </thead>\n",
       "  <tbody>\n",
       "    <tr>\n",
       "      <th>2017-12-23</th>\n",
       "      <td>2017-12-23</td>\n",
       "      <td>4238</td>\n",
       "      <td>5</td>\n",
       "      <td>Saturday</td>\n",
       "      <td>9.116667</td>\n",
       "      <td>NaN</td>\n",
       "      <td>NaN</td>\n",
       "    </tr>\n",
       "    <tr>\n",
       "      <th>2017-12-24</th>\n",
       "      <td>2017-12-24</td>\n",
       "      <td>10776</td>\n",
       "      <td>6</td>\n",
       "      <td>Sunday</td>\n",
       "      <td>9.250000</td>\n",
       "      <td>9.116667</td>\n",
       "      <td>0.133333</td>\n",
       "    </tr>\n",
       "    <tr>\n",
       "      <th>2017-12-25</th>\n",
       "      <td>2017-12-25</td>\n",
       "      <td>4928</td>\n",
       "      <td>0</td>\n",
       "      <td>Monday</td>\n",
       "      <td>8.683333</td>\n",
       "      <td>9.250000</td>\n",
       "      <td>-0.566667</td>\n",
       "    </tr>\n",
       "    <tr>\n",
       "      <th>2017-12-26</th>\n",
       "      <td>2017-12-26</td>\n",
       "      <td>9468</td>\n",
       "      <td>1</td>\n",
       "      <td>Tuesday</td>\n",
       "      <td>9.966667</td>\n",
       "      <td>8.683333</td>\n",
       "      <td>1.283333</td>\n",
       "    </tr>\n",
       "    <tr>\n",
       "      <th>2017-12-27</th>\n",
       "      <td>2017-12-27</td>\n",
       "      <td>7046</td>\n",
       "      <td>2</td>\n",
       "      <td>Wednesday</td>\n",
       "      <td>7.500000</td>\n",
       "      <td>9.966667</td>\n",
       "      <td>-2.466667</td>\n",
       "    </tr>\n",
       "  </tbody>\n",
       "</table>\n",
       "</div>"
      ],
      "text/plain": [
       "                  date  steps  day_of_week   day_name     hours  hours_prev  \\\n",
       "2017-12-23  2017-12-23   4238            5   Saturday  9.116667         NaN   \n",
       "2017-12-24  2017-12-24  10776            6     Sunday  9.250000    9.116667   \n",
       "2017-12-25  2017-12-25   4928            0     Monday  8.683333    9.250000   \n",
       "2017-12-26  2017-12-26   9468            1    Tuesday  9.966667    8.683333   \n",
       "2017-12-27  2017-12-27   7046            2  Wednesday  7.500000    9.966667   \n",
       "\n",
       "            hours_diff  \n",
       "2017-12-23         NaN  \n",
       "2017-12-24    0.133333  \n",
       "2017-12-25   -0.566667  \n",
       "2017-12-26    1.283333  \n",
       "2017-12-27   -2.466667  "
      ]
     },
     "execution_count": 105,
     "metadata": {},
     "output_type": "execute_result"
    }
   ],
   "source": [
    "stepsdf[\"hours_diff\"] = stepsdf.hours - stepsdf.hours_prev\n",
    "stepsdf.head()"
   ]
  },
  {
   "cell_type": "code",
   "execution_count": 106,
   "metadata": {},
   "outputs": [
    {
     "data": {
      "text/html": [
       "<table class=\"simpletable\">\n",
       "<tr>\n",
       "       <td></td>         <th>coef</th>     <th>std err</th>      <th>t</th>      <th>P>|t|</th>  <th>[0.025</th>    <th>0.975]</th>  \n",
       "</tr>\n",
       "<tr>\n",
       "  <th>Intercept</th>  <td>    9.4319</td> <td>    1.558</td> <td>    6.054</td> <td> 0.000</td> <td>    6.254</td> <td>   12.610</td>\n",
       "</tr>\n",
       "<tr>\n",
       "  <th>hours_prev</th> <td>   -1.1131</td> <td>    0.180</td> <td>   -6.173</td> <td> 0.000</td> <td>   -1.481</td> <td>   -0.745</td>\n",
       "</tr>\n",
       "</table>"
      ],
      "text/plain": [
       "<class 'statsmodels.iolib.table.SimpleTable'>"
      ]
     },
     "execution_count": 106,
     "metadata": {},
     "output_type": "execute_result"
    }
   ],
   "source": [
    "mod2 = smf.ols(formula = 'hours_diff ~ hours_prev', data = stepsdf).fit()\n",
    "mod2.summary().tables[1]"
   ]
  },
  {
   "cell_type": "markdown",
   "metadata": {
    "collapsed": true
   },
   "source": [
    "## Results:\n",
    "\n",
    "The regression table shows that how many hours I slept the previous night ('hours_prev') negatively predicts the difference in amount of sleep I get the next day. Put more simply, this means that if I get a good night's sleep, the next night, I don't need as much sleep. Conversely, if I don't get a lot of sleep, the next night, I make up for it by sleeping longer.\n",
    "\n",
    "To make this finding easier to digest, let us visualize the relationship!"
   ]
  },
  {
   "cell_type": "code",
   "execution_count": 107,
   "metadata": {},
   "outputs": [
    {
     "data": {
      "image/png": "[encoded data removed]",
      "text/plain": [
       "<matplotlib.figure.Figure at 0x1a138da7d0>"
      ]
     },
     "metadata": {},
     "output_type": "display_data"
    }
   ],
   "source": [
    "# Plot how much more I slept each night vs. amount slept night before\n",
    "sns.regplot(x = stepsdf.hours_prev, y = stepsdf.hours_diff, color = \"mediumseagreen\")\n",
    "plt.title(\"Sleep Deficit?\")\n",
    "plt.ylabel(\"Difference in Hours\")\n",
    "plt.xlabel(\"Hours of Sleep\")\n",
    "plt.show()"
   ]
  },
  {
   "cell_type": "markdown",
   "metadata": {
    "collapsed": true
   },
   "source": [
    "Poof! Here is that negtative linear relationship we saw in our regression table."
   ]
  },
  {
   "cell_type": "markdown",
   "metadata": {
    "collapsed": true
   },
   "source": [
    "## 4. Next steps"
   ]
  },
  {
   "cell_type": "markdown",
   "metadata": {
    "collapsed": true
   },
   "source": [
    "In sum, we have imported data using Fitbit's API, worked with .json data, visualized our data, and we ran two linear regressions. We found that my activity level is dependent from how much sleep I get and that I built up a sleep deficit over time. Phew!! \n",
    "\n",
    "What I would like to do next is collect more data! I would also like to create some interactive visuals and run some more sophisticated models on my data. Finally, I would like to explore my heart rate more. The closer I get to defending my dissertation, the higher it seems to get. Should be fun to test if that is statistically significant! :) "
   ]
  },
  {
   "cell_type": "markdown",
   "metadata": {},
   "source": [
    "### If you have any suggestions on how I can improve, sources that may help improve my code, or comments/questions, please let me know! I am using this space to share and learn. \n",
    "\n",
    "Thanks!!"
   ]
  }
 ],
 "metadata": {
  "kernelspec": {
   "display_name": "Python 2",
   "language": "python",
   "name": "python2"
  },
  "language_info": {
   "codemirror_mode": {
    "name": "ipython",
    "version": 2
   },
   "file_extension": ".py",
   "mimetype": "text/x-python",
   "name": "python",
   "nbconvert_exporter": "python",
   "pygments_lexer": "ipython2",
   "version": "2.7.14"
  }
 },
 "nbformat": 4,
 "nbformat_minor": 2
}
